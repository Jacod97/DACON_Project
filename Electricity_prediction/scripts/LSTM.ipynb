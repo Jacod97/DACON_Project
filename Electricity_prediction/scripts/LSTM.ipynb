{
 "cells": [
  {
   "cell_type": "code",
   "execution_count": 1,
   "id": "e96170cb",
   "metadata": {},
   "outputs": [],
   "source": [
    "import pandas as pd"
   ]
  },
  {
   "cell_type": "code",
   "execution_count": null,
   "id": "dbb5630e",
   "metadata": {},
   "outputs": [],
   "source": [
    "train_path = \"../data/origin/train.csv\"\n",
    "test_path = \"../data/origin/test.csv\"\n",
    "building_path = \"../data/origin/building_info.csv\"\n",
    "submission_path = \"../data/origin/sample_submission.csv\"\n",
    "\n",
    "ko2en_dict = {\n",
    " '건물번호': 'b_num',\n",
    " '일시': 'date',\n",
    " '기온(°C)': 'tmp',\n",
    " '강수량(mm)': 'rain',\n",
    " '풍속(m/s)': 'wind',\n",
    " '습도(%)': 'hum',\n",
    " '일조(hr)': 'sunshine',\n",
    " '일사(MJ/m2)': 'solar',\n",
    " '전력소비량(kWh)': 'power_consumption',\n",
    " '건물유형': 'b_type',\n",
    " '연면적(m2)': 'total_area',\n",
    " '냉방면적(m2)': 'cooling_area',\n",
    " '태양광용량(kW)': 'solar_capacity',\n",
    " 'ESS저장용량(kWh)': 'ess_capacity',\n",
    " 'PCS용량(kW)': 'pcs_capacity',\n",
    "}\n",
    "\n",
    "change_name = ['hotel', 'commercial', 'hospital', 'school', 'etc', 'apart', 'research', 'store', 'idc','public']\n",
    "\n",
    "train = pd.read_csv(train_path, encoding='utf-8')\n",
    "test = pd.read_csv(test_path, encoding='utf-8')\n",
    "building = pd.read_csv(building_path, encoding='utf-8')"
   ]
  }
 ],
 "metadata": {
  "kernelspec": {
   "display_name": "myenv",
   "language": "python",
   "name": "python3"
  },
  "language_info": {
   "codemirror_mode": {
    "name": "ipython",
    "version": 3
   },
   "file_extension": ".py",
   "mimetype": "text/x-python",
   "name": "python",
   "nbconvert_exporter": "python",
   "pygments_lexer": "ipython3",
   "version": "3.11.13"
  }
 },
 "nbformat": 4,
 "nbformat_minor": 5
}
